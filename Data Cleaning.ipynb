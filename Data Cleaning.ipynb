{
 "cells": [
  {
   "cell_type": "code",
   "execution_count": 1,
   "metadata": {},
   "outputs": [],
   "source": [
    "import pandas as pd"
   ]
  },
  {
   "cell_type": "code",
   "execution_count": 2,
   "metadata": {},
   "outputs": [],
   "source": [
    "crypto=pd.read_csv(\".\\cryptocurriencies.csv\")"
   ]
  },
  {
   "cell_type": "code",
   "execution_count": 3,
   "metadata": {},
   "outputs": [
    {
     "data": {
      "text/html": [
       "<div>\n",
       "<style scoped>\n",
       "    .dataframe tbody tr th:only-of-type {\n",
       "        vertical-align: middle;\n",
       "    }\n",
       "\n",
       "    .dataframe tbody tr th {\n",
       "        vertical-align: top;\n",
       "    }\n",
       "\n",
       "    .dataframe thead th {\n",
       "        text-align: right;\n",
       "    }\n",
       "</style>\n",
       "<table border=\"1\" class=\"dataframe\">\n",
       "  <thead>\n",
       "    <tr style=\"text-align: right;\">\n",
       "      <th></th>\n",
       "      <th>Date</th>\n",
       "      <th>Rank</th>\n",
       "      <th>Coin</th>\n",
       "      <th>Symbol</th>\n",
       "      <th>Market Cap</th>\n",
       "      <th>Price</th>\n",
       "      <th>Circulating Supply</th>\n",
       "      <th>Volume</th>\n",
       "      <th>%1h</th>\n",
       "      <th>%24h</th>\n",
       "      <th>%7d</th>\n",
       "    </tr>\n",
       "  </thead>\n",
       "  <tbody>\n",
       "    <tr>\n",
       "      <td>0</td>\n",
       "      <td>2013-April-28</td>\n",
       "      <td>1.0</td>\n",
       "      <td>BTCBitcoin</td>\n",
       "      <td>BTC</td>\n",
       "      <td>$1.49B$1488566972</td>\n",
       "      <td>$134.21</td>\n",
       "      <td>11091325 BTC</td>\n",
       "      <td>NaN</td>\n",
       "      <td>0.64%</td>\n",
       "      <td>0.00%</td>\n",
       "      <td>0.00%</td>\n",
       "    </tr>\n",
       "    <tr>\n",
       "      <td>1</td>\n",
       "      <td>2013-April-28</td>\n",
       "      <td>2.0</td>\n",
       "      <td>LTCLitecoin</td>\n",
       "      <td>LTC</td>\n",
       "      <td>$74.64M$74637022</td>\n",
       "      <td>$4.35</td>\n",
       "      <td>17164230 LTC</td>\n",
       "      <td>NaN</td>\n",
       "      <td>0.80%</td>\n",
       "      <td>0.00%</td>\n",
       "      <td>0.00%</td>\n",
       "    </tr>\n",
       "    <tr>\n",
       "      <td>2</td>\n",
       "      <td>2013-April-28</td>\n",
       "      <td>3.0</td>\n",
       "      <td>PPCPeercoin</td>\n",
       "      <td>PPC</td>\n",
       "      <td>$7.25M$7250187</td>\n",
       "      <td>$0.39</td>\n",
       "      <td>18757362 PPC</td>\n",
       "      <td>NaN</td>\n",
       "      <td>-0.93%</td>\n",
       "      <td>0.00%</td>\n",
       "      <td>0.00%</td>\n",
       "    </tr>\n",
       "    <tr>\n",
       "      <td>3</td>\n",
       "      <td>2013-April-28</td>\n",
       "      <td>4.0</td>\n",
       "      <td>NMCNamecoin</td>\n",
       "      <td>NMC</td>\n",
       "      <td>$6.00M$5995997</td>\n",
       "      <td>$1.11</td>\n",
       "      <td>5415300 NMC</td>\n",
       "      <td>NaN</td>\n",
       "      <td>-0.05%</td>\n",
       "      <td>0.00%</td>\n",
       "      <td>0.00%</td>\n",
       "    </tr>\n",
       "    <tr>\n",
       "      <td>4</td>\n",
       "      <td>2013-April-28</td>\n",
       "      <td>5.0</td>\n",
       "      <td>TRCTerracoin</td>\n",
       "      <td>TRC</td>\n",
       "      <td>$1.50M$1503099</td>\n",
       "      <td>$0.65</td>\n",
       "      <td>2323570 TRC</td>\n",
       "      <td>NaN</td>\n",
       "      <td>0.61%</td>\n",
       "      <td>0.00%</td>\n",
       "      <td>0.00%</td>\n",
       "    </tr>\n",
       "    <tr>\n",
       "      <td>...</td>\n",
       "      <td>...</td>\n",
       "      <td>...</td>\n",
       "      <td>...</td>\n",
       "      <td>...</td>\n",
       "      <td>...</td>\n",
       "      <td>...</td>\n",
       "      <td>...</td>\n",
       "      <td>...</td>\n",
       "      <td>...</td>\n",
       "      <td>...</td>\n",
       "      <td>...</td>\n",
       "    </tr>\n",
       "    <tr>\n",
       "      <td>78042</td>\n",
       "      <td>2021-June-13</td>\n",
       "      <td>NaN</td>\n",
       "      <td>RSK Infrastructure Framework</td>\n",
       "      <td>NaN</td>\n",
       "      <td>NaN</td>\n",
       "      <td>NaN</td>\n",
       "      <td>NaN</td>\n",
       "      <td>NaN</td>\n",
       "      <td>NaN</td>\n",
       "      <td>NaN</td>\n",
       "      <td>NaN</td>\n",
       "    </tr>\n",
       "    <tr>\n",
       "      <td>78043</td>\n",
       "      <td>2021-June-13</td>\n",
       "      <td>NaN</td>\n",
       "      <td>Komodo</td>\n",
       "      <td>NaN</td>\n",
       "      <td>NaN</td>\n",
       "      <td>NaN</td>\n",
       "      <td>NaN</td>\n",
       "      <td>NaN</td>\n",
       "      <td>NaN</td>\n",
       "      <td>NaN</td>\n",
       "      <td>NaN</td>\n",
       "    </tr>\n",
       "    <tr>\n",
       "      <td>78044</td>\n",
       "      <td>2021-June-13</td>\n",
       "      <td>NaN</td>\n",
       "      <td>Function X</td>\n",
       "      <td>NaN</td>\n",
       "      <td>NaN</td>\n",
       "      <td>NaN</td>\n",
       "      <td>NaN</td>\n",
       "      <td>NaN</td>\n",
       "      <td>NaN</td>\n",
       "      <td>NaN</td>\n",
       "      <td>NaN</td>\n",
       "    </tr>\n",
       "    <tr>\n",
       "      <td>78045</td>\n",
       "      <td>2021-June-13</td>\n",
       "      <td>NaN</td>\n",
       "      <td>LockTrip</td>\n",
       "      <td>NaN</td>\n",
       "      <td>NaN</td>\n",
       "      <td>NaN</td>\n",
       "      <td>NaN</td>\n",
       "      <td>NaN</td>\n",
       "      <td>NaN</td>\n",
       "      <td>NaN</td>\n",
       "      <td>NaN</td>\n",
       "    </tr>\n",
       "    <tr>\n",
       "      <td>78046</td>\n",
       "      <td>2021-June-13</td>\n",
       "      <td>NaN</td>\n",
       "      <td>Polymath</td>\n",
       "      <td>NaN</td>\n",
       "      <td>NaN</td>\n",
       "      <td>NaN</td>\n",
       "      <td>NaN</td>\n",
       "      <td>NaN</td>\n",
       "      <td>NaN</td>\n",
       "      <td>NaN</td>\n",
       "      <td>NaN</td>\n",
       "    </tr>\n",
       "  </tbody>\n",
       "</table>\n",
       "<p>78047 rows × 11 columns</p>\n",
       "</div>"
      ],
      "text/plain": [
       "                Date  Rank                          Coin Symbol  \\\n",
       "0      2013-April-28   1.0                    BTCBitcoin    BTC   \n",
       "1      2013-April-28   2.0                   LTCLitecoin    LTC   \n",
       "2      2013-April-28   3.0                   PPCPeercoin    PPC   \n",
       "3      2013-April-28   4.0                   NMCNamecoin    NMC   \n",
       "4      2013-April-28   5.0                  TRCTerracoin    TRC   \n",
       "...              ...   ...                           ...    ...   \n",
       "78042   2021-June-13   NaN  RSK Infrastructure Framework    NaN   \n",
       "78043   2021-June-13   NaN                        Komodo    NaN   \n",
       "78044   2021-June-13   NaN                    Function X    NaN   \n",
       "78045   2021-June-13   NaN                      LockTrip    NaN   \n",
       "78046   2021-June-13   NaN                      Polymath    NaN   \n",
       "\n",
       "              Market Cap     Price Circulating Supply Volume     %1h   %24h  \\\n",
       "0      $1.49B$1488566972  $134.21        11091325 BTC    NaN   0.64%  0.00%   \n",
       "1       $74.64M$74637022    $4.35        17164230 LTC    NaN   0.80%  0.00%   \n",
       "2         $7.25M$7250187    $0.39        18757362 PPC    NaN  -0.93%  0.00%   \n",
       "3         $6.00M$5995997    $1.11         5415300 NMC    NaN  -0.05%  0.00%   \n",
       "4         $1.50M$1503099    $0.65         2323570 TRC    NaN   0.61%  0.00%   \n",
       "...                  ...       ...                ...    ...     ...    ...   \n",
       "78042                NaN       NaN                NaN    NaN     NaN    NaN   \n",
       "78043                NaN       NaN                NaN    NaN     NaN    NaN   \n",
       "78044                NaN       NaN                NaN    NaN     NaN    NaN   \n",
       "78045                NaN       NaN                NaN    NaN     NaN    NaN   \n",
       "78046                NaN       NaN                NaN    NaN     NaN    NaN   \n",
       "\n",
       "         %7d  \n",
       "0      0.00%  \n",
       "1      0.00%  \n",
       "2      0.00%  \n",
       "3      0.00%  \n",
       "4      0.00%  \n",
       "...      ...  \n",
       "78042    NaN  \n",
       "78043    NaN  \n",
       "78044    NaN  \n",
       "78045    NaN  \n",
       "78046    NaN  \n",
       "\n",
       "[78047 rows x 11 columns]"
      ]
     },
     "execution_count": 3,
     "metadata": {},
     "output_type": "execute_result"
    }
   ],
   "source": [
    "crypto"
   ]
  },
  {
   "cell_type": "markdown",
   "metadata": {},
   "source": [
    "# Data Cleaning"
   ]
  },
  {
   "cell_type": "code",
   "execution_count": 4,
   "metadata": {},
   "outputs": [
    {
     "data": {
      "text/plain": [
       "Date                   object\n",
       "Rank                  float64\n",
       "Coin                   object\n",
       "Symbol                 object\n",
       "Market Cap             object\n",
       "Price                  object\n",
       "Circulating Supply     object\n",
       "Volume                 object\n",
       "%1h                    object\n",
       "%24h                   object\n",
       "%7d                    object\n",
       "dtype: object"
      ]
     },
     "execution_count": 4,
     "metadata": {},
     "output_type": "execute_result"
    }
   ],
   "source": [
    "crypto.dtypes"
   ]
  },
  {
   "cell_type": "markdown",
   "metadata": {},
   "source": [
    "### Treating missing values"
   ]
  },
  {
   "cell_type": "code",
   "execution_count": 5,
   "metadata": {},
   "outputs": [],
   "source": [
    "crypto=crypto.dropna()"
   ]
  },
  {
   "cell_type": "markdown",
   "metadata": {},
   "source": [
    "### Converting Date to date object"
   ]
  },
  {
   "cell_type": "code",
   "execution_count": 6,
   "metadata": {},
   "outputs": [
    {
     "name": "stderr",
     "output_type": "stream",
     "text": [
      "C:\\Users\\Faiza\\Anaconda3\\lib\\site-packages\\ipykernel_launcher.py:1: SettingWithCopyWarning: \n",
      "A value is trying to be set on a copy of a slice from a DataFrame.\n",
      "Try using .loc[row_indexer,col_indexer] = value instead\n",
      "\n",
      "See the caveats in the documentation: http://pandas.pydata.org/pandas-docs/stable/user_guide/indexing.html#returning-a-view-versus-a-copy\n",
      "  \"\"\"Entry point for launching an IPython kernel.\n"
     ]
    }
   ],
   "source": [
    "crypto[\"Date\"]=pd.to_datetime(crypto[\"Date\"],format=\"%Y-%B-%d\")"
   ]
  },
  {
   "cell_type": "markdown",
   "metadata": {},
   "source": [
    "### Converting Rank to int"
   ]
  },
  {
   "cell_type": "code",
   "execution_count": 7,
   "metadata": {},
   "outputs": [
    {
     "name": "stderr",
     "output_type": "stream",
     "text": [
      "C:\\Users\\Faiza\\Anaconda3\\lib\\site-packages\\ipykernel_launcher.py:1: SettingWithCopyWarning: \n",
      "A value is trying to be set on a copy of a slice from a DataFrame.\n",
      "Try using .loc[row_indexer,col_indexer] = value instead\n",
      "\n",
      "See the caveats in the documentation: http://pandas.pydata.org/pandas-docs/stable/user_guide/indexing.html#returning-a-view-versus-a-copy\n",
      "  \"\"\"Entry point for launching an IPython kernel.\n"
     ]
    }
   ],
   "source": [
    "crypto[\"Rank\"]=crypto[\"Rank\"].astype(int)"
   ]
  },
  {
   "cell_type": "markdown",
   "metadata": {},
   "source": [
    "### Getting numerical value of market cap and converting it to float"
   ]
  },
  {
   "cell_type": "code",
   "execution_count": 8,
   "metadata": {},
   "outputs": [],
   "source": [
    "def market_cap(cap):\n",
    "    if(cap.count(\"M\")>=1):\n",
    "        return float(cap.split(\"M\")[-1])\n",
    "    elif(cap.count(\"T\")>=1):\n",
    "        return float(cap.split(\"T\")[-1])\n",
    "    return float(cap.split(\"B\")[-1])"
   ]
  },
  {
   "cell_type": "code",
   "execution_count": 9,
   "metadata": {
    "scrolled": true
   },
   "outputs": [
    {
     "name": "stderr",
     "output_type": "stream",
     "text": [
      "C:\\Users\\Faiza\\Anaconda3\\lib\\site-packages\\ipykernel_launcher.py:1: SettingWithCopyWarning: \n",
      "A value is trying to be set on a copy of a slice from a DataFrame.\n",
      "Try using .loc[row_indexer,col_indexer] = value instead\n",
      "\n",
      "See the caveats in the documentation: http://pandas.pydata.org/pandas-docs/stable/user_guide/indexing.html#returning-a-view-versus-a-copy\n",
      "  \"\"\"Entry point for launching an IPython kernel.\n"
     ]
    }
   ],
   "source": [
    "crypto[\"Market Cap\"]=crypto[\"Market Cap\"].str.replace(\"$\",\"\").apply(market_cap)"
   ]
  },
  {
   "cell_type": "markdown",
   "metadata": {},
   "source": [
    "### Getting numerical value of price  and converting it to float"
   ]
  },
  {
   "cell_type": "code",
   "execution_count": 10,
   "metadata": {},
   "outputs": [
    {
     "name": "stderr",
     "output_type": "stream",
     "text": [
      "C:\\Users\\Faiza\\Anaconda3\\lib\\site-packages\\ipykernel_launcher.py:1: SettingWithCopyWarning: \n",
      "A value is trying to be set on a copy of a slice from a DataFrame.\n",
      "Try using .loc[row_indexer,col_indexer] = value instead\n",
      "\n",
      "See the caveats in the documentation: http://pandas.pydata.org/pandas-docs/stable/user_guide/indexing.html#returning-a-view-versus-a-copy\n",
      "  \"\"\"Entry point for launching an IPython kernel.\n"
     ]
    }
   ],
   "source": [
    "crypto[\"Price\"]=crypto[\"Price\"].apply(lambda x:float(x.replace(\",\",\"\").replace(\"$\",\"\")))"
   ]
  },
  {
   "cell_type": "markdown",
   "metadata": {},
   "source": [
    "### Getting numerical value of Circulating Supply and converting it to float"
   ]
  },
  {
   "cell_type": "code",
   "execution_count": 11,
   "metadata": {},
   "outputs": [
    {
     "name": "stderr",
     "output_type": "stream",
     "text": [
      "C:\\Users\\Faiza\\Anaconda3\\lib\\site-packages\\ipykernel_launcher.py:1: SettingWithCopyWarning: \n",
      "A value is trying to be set on a copy of a slice from a DataFrame.\n",
      "Try using .loc[row_indexer,col_indexer] = value instead\n",
      "\n",
      "See the caveats in the documentation: http://pandas.pydata.org/pandas-docs/stable/user_guide/indexing.html#returning-a-view-versus-a-copy\n",
      "  \"\"\"Entry point for launching an IPython kernel.\n"
     ]
    }
   ],
   "source": [
    "crypto[\"Circulating Supply\"]=crypto[\"Circulating Supply\"].apply(lambda x: float(x.split()[0]))"
   ]
  },
  {
   "cell_type": "markdown",
   "metadata": {},
   "source": [
    "### Getting numerical value of Volume and converting it to float"
   ]
  },
  {
   "cell_type": "code",
   "execution_count": 12,
   "metadata": {},
   "outputs": [
    {
     "name": "stderr",
     "output_type": "stream",
     "text": [
      "C:\\Users\\Faiza\\Anaconda3\\lib\\site-packages\\ipykernel_launcher.py:1: SettingWithCopyWarning: \n",
      "A value is trying to be set on a copy of a slice from a DataFrame.\n",
      "Try using .loc[row_indexer,col_indexer] = value instead\n",
      "\n",
      "See the caveats in the documentation: http://pandas.pydata.org/pandas-docs/stable/user_guide/indexing.html#returning-a-view-versus-a-copy\n",
      "  \"\"\"Entry point for launching an IPython kernel.\n"
     ]
    }
   ],
   "source": [
    "crypto[\"Volume\"]=crypto[\"Volume\"].apply(lambda x:float(x.replace(\",\",\"\").replace(\"$\",\"\")))"
   ]
  },
  {
   "cell_type": "markdown",
   "metadata": {},
   "source": [
    "### Getting numerical percentage of %1hr"
   ]
  },
  {
   "cell_type": "code",
   "execution_count": 13,
   "metadata": {},
   "outputs": [
    {
     "name": "stderr",
     "output_type": "stream",
     "text": [
      "C:\\Users\\Faiza\\Anaconda3\\lib\\site-packages\\ipykernel_launcher.py:1: SettingWithCopyWarning: \n",
      "A value is trying to be set on a copy of a slice from a DataFrame.\n",
      "Try using .loc[row_indexer,col_indexer] = value instead\n",
      "\n",
      "See the caveats in the documentation: http://pandas.pydata.org/pandas-docs/stable/user_guide/indexing.html#returning-a-view-versus-a-copy\n",
      "  \"\"\"Entry point for launching an IPython kernel.\n"
     ]
    }
   ],
   "source": [
    "crypto[\"%1h\"]=crypto[\"%1h\"].apply(lambda x:float(x.replace(\"%\",\"\")))"
   ]
  },
  {
   "cell_type": "markdown",
   "metadata": {},
   "source": [
    "### Getting numerical percentage of %24hr"
   ]
  },
  {
   "cell_type": "code",
   "execution_count": 14,
   "metadata": {},
   "outputs": [
    {
     "name": "stderr",
     "output_type": "stream",
     "text": [
      "C:\\Users\\Faiza\\Anaconda3\\lib\\site-packages\\ipykernel_launcher.py:1: SettingWithCopyWarning: \n",
      "A value is trying to be set on a copy of a slice from a DataFrame.\n",
      "Try using .loc[row_indexer,col_indexer] = value instead\n",
      "\n",
      "See the caveats in the documentation: http://pandas.pydata.org/pandas-docs/stable/user_guide/indexing.html#returning-a-view-versus-a-copy\n",
      "  \"\"\"Entry point for launching an IPython kernel.\n"
     ]
    }
   ],
   "source": [
    "crypto[\"%24h\"]=crypto[\"%24h\"].apply(lambda x:float(x.replace(\"%\",\"\")))"
   ]
  },
  {
   "cell_type": "markdown",
   "metadata": {},
   "source": [
    "### Getting numerical percentage of %7d"
   ]
  },
  {
   "cell_type": "code",
   "execution_count": 15,
   "metadata": {},
   "outputs": [
    {
     "name": "stderr",
     "output_type": "stream",
     "text": [
      "C:\\Users\\Faiza\\Anaconda3\\lib\\site-packages\\ipykernel_launcher.py:1: SettingWithCopyWarning: \n",
      "A value is trying to be set on a copy of a slice from a DataFrame.\n",
      "Try using .loc[row_indexer,col_indexer] = value instead\n",
      "\n",
      "See the caveats in the documentation: http://pandas.pydata.org/pandas-docs/stable/user_guide/indexing.html#returning-a-view-versus-a-copy\n",
      "  \"\"\"Entry point for launching an IPython kernel.\n"
     ]
    }
   ],
   "source": [
    "crypto[\"%7d\"]=crypto[\"%7d\"].apply(lambda x:float(x.replace(\"%\",\"\").replace(\">\",\"\")))"
   ]
  },
  {
   "cell_type": "markdown",
   "metadata": {},
   "source": [
    "### Calculating value of %1hr of Price and adding to new column"
   ]
  },
  {
   "cell_type": "code",
   "execution_count": 16,
   "metadata": {},
   "outputs": [],
   "source": [
    "def percentage_price(pricePercentage):\n",
    "    price=float(pricePercentage.split(\"%\")[0])\n",
    "    percentage=float(pricePercentage.split(\"%\")[1])\n",
    "    return price+((percentage*price)/100)"
   ]
  },
  {
   "cell_type": "code",
   "execution_count": 17,
   "metadata": {},
   "outputs": [
    {
     "name": "stderr",
     "output_type": "stream",
     "text": [
      "C:\\Users\\Faiza\\Anaconda3\\lib\\site-packages\\ipykernel_launcher.py:5: SettingWithCopyWarning: \n",
      "A value is trying to be set on a copy of a slice from a DataFrame.\n",
      "Try using .loc[row_indexer,col_indexer] = value instead\n",
      "\n",
      "See the caveats in the documentation: http://pandas.pydata.org/pandas-docs/stable/user_guide/indexing.html#returning-a-view-versus-a-copy\n",
      "  \"\"\"\n"
     ]
    }
   ],
   "source": [
    "hr_1=crypto[\"Price\"].astype(str)+\"%\"+crypto[\"%1h\"].astype(str)\n",
    "\n",
    "hr_1=hr_1.apply(percentage_price)\n",
    "\n",
    "crypto[\"price_hr_1\"]=hr_1"
   ]
  },
  {
   "cell_type": "markdown",
   "metadata": {},
   "source": [
    "### Calculating value of %24hr of Price and adding to new column"
   ]
  },
  {
   "cell_type": "code",
   "execution_count": 18,
   "metadata": {},
   "outputs": [
    {
     "name": "stderr",
     "output_type": "stream",
     "text": [
      "C:\\Users\\Faiza\\Anaconda3\\lib\\site-packages\\ipykernel_launcher.py:5: SettingWithCopyWarning: \n",
      "A value is trying to be set on a copy of a slice from a DataFrame.\n",
      "Try using .loc[row_indexer,col_indexer] = value instead\n",
      "\n",
      "See the caveats in the documentation: http://pandas.pydata.org/pandas-docs/stable/user_guide/indexing.html#returning-a-view-versus-a-copy\n",
      "  \"\"\"\n"
     ]
    }
   ],
   "source": [
    "hr_24=crypto[\"Price\"].astype(str)+\"%\"+crypto[\"%24h\"].astype(str)\n",
    "\n",
    "hr_24=hr_24.apply(percentage_price)\n",
    "\n",
    "crypto[\"price_hr_24\"]=hr_24"
   ]
  },
  {
   "cell_type": "markdown",
   "metadata": {},
   "source": [
    "### Dropping coin column as symbol and coin reprsent same thing"
   ]
  },
  {
   "cell_type": "code",
   "execution_count": 19,
   "metadata": {},
   "outputs": [
    {
     "name": "stderr",
     "output_type": "stream",
     "text": [
      "C:\\Users\\Faiza\\Anaconda3\\lib\\site-packages\\pandas\\core\\frame.py:4102: SettingWithCopyWarning: \n",
      "A value is trying to be set on a copy of a slice from a DataFrame\n",
      "\n",
      "See the caveats in the documentation: http://pandas.pydata.org/pandas-docs/stable/user_guide/indexing.html#returning-a-view-versus-a-copy\n",
      "  errors=errors,\n"
     ]
    }
   ],
   "source": [
    "crypto.drop(columns=\"Coin\",inplace=True)"
   ]
  },
  {
   "cell_type": "markdown",
   "metadata": {},
   "source": [
    "### Requirement is to get rank between 1 to 20"
   ]
  },
  {
   "cell_type": "code",
   "execution_count": 20,
   "metadata": {},
   "outputs": [],
   "source": [
    "crypto=crypto[(crypto[\"Rank\"]>=1) & (crypto[\"Rank\"]<=20)]"
   ]
  },
  {
   "cell_type": "markdown",
   "metadata": {},
   "source": [
    "### Adding Year Column"
   ]
  },
  {
   "cell_type": "code",
   "execution_count": 21,
   "metadata": {},
   "outputs": [],
   "source": [
    "crypto[\"Date_Year\"]=crypto[\"Date\"].astype(str)\n",
    "crypto[\"Date_Year\"]=crypto[\"Date_Year\"].str[0:4]"
   ]
  },
  {
   "cell_type": "markdown",
   "metadata": {},
   "source": [
    "### Changing column order"
   ]
  },
  {
   "cell_type": "code",
   "execution_count": 22,
   "metadata": {},
   "outputs": [],
   "source": [
    "colms=[\"Date\",\"Date_Year\",\"Rank\",\"Symbol\",\"Market Cap\",\"Price\",\"Circulating Supply\",\n",
    "       \"Volume\",\"%1h\",\"price_hr_1\",\"%24h\",\"price_hr_24\",\"%7d\"]\n",
    "crypto=crypto.reindex(columns=colms)"
   ]
  },
  {
   "cell_type": "code",
   "execution_count": 23,
   "metadata": {},
   "outputs": [],
   "source": [
    "crypto=crypto.reset_index(drop=True)"
   ]
  },
  {
   "cell_type": "code",
   "execution_count": 24,
   "metadata": {},
   "outputs": [
    {
     "data": {
      "text/html": [
       "<div>\n",
       "<style scoped>\n",
       "    .dataframe tbody tr th:only-of-type {\n",
       "        vertical-align: middle;\n",
       "    }\n",
       "\n",
       "    .dataframe tbody tr th {\n",
       "        vertical-align: top;\n",
       "    }\n",
       "\n",
       "    .dataframe thead th {\n",
       "        text-align: right;\n",
       "    }\n",
       "</style>\n",
       "<table border=\"1\" class=\"dataframe\">\n",
       "  <thead>\n",
       "    <tr style=\"text-align: right;\">\n",
       "      <th></th>\n",
       "      <th>Date</th>\n",
       "      <th>Date_Year</th>\n",
       "      <th>Rank</th>\n",
       "      <th>Symbol</th>\n",
       "      <th>Market Cap</th>\n",
       "      <th>Price</th>\n",
       "      <th>Circulating Supply</th>\n",
       "      <th>Volume</th>\n",
       "      <th>%1h</th>\n",
       "      <th>price_hr_1</th>\n",
       "      <th>%24h</th>\n",
       "      <th>price_hr_24</th>\n",
       "      <th>%7d</th>\n",
       "    </tr>\n",
       "  </thead>\n",
       "  <tbody>\n",
       "    <tr>\n",
       "      <td>0</td>\n",
       "      <td>2013-12-29</td>\n",
       "      <td>2013</td>\n",
       "      <td>1</td>\n",
       "      <td>BTC</td>\n",
       "      <td>9.082103e+09</td>\n",
       "      <td>745.05</td>\n",
       "      <td>1.218992e+07</td>\n",
       "      <td>1.901134e+07</td>\n",
       "      <td>-0.10</td>\n",
       "      <td>744.304950</td>\n",
       "      <td>1.96</td>\n",
       "      <td>759.652980</td>\n",
       "      <td>17.84</td>\n",
       "    </tr>\n",
       "    <tr>\n",
       "      <td>1</td>\n",
       "      <td>2013-12-29</td>\n",
       "      <td>2013</td>\n",
       "      <td>2</td>\n",
       "      <td>LTC</td>\n",
       "      <td>5.868998e+08</td>\n",
       "      <td>24.07</td>\n",
       "      <td>2.438799e+07</td>\n",
       "      <td>1.138424e+07</td>\n",
       "      <td>-0.94</td>\n",
       "      <td>23.843742</td>\n",
       "      <td>6.35</td>\n",
       "      <td>25.598445</td>\n",
       "      <td>39.97</td>\n",
       "    </tr>\n",
       "    <tr>\n",
       "      <td>2</td>\n",
       "      <td>2013-12-29</td>\n",
       "      <td>2013</td>\n",
       "      <td>3</td>\n",
       "      <td>XRP</td>\n",
       "      <td>2.127839e+08</td>\n",
       "      <td>0.03</td>\n",
       "      <td>7.817890e+09</td>\n",
       "      <td>5.677200e+04</td>\n",
       "      <td>-0.27</td>\n",
       "      <td>0.029919</td>\n",
       "      <td>-0.33</td>\n",
       "      <td>0.029901</td>\n",
       "      <td>22.27</td>\n",
       "    </tr>\n",
       "    <tr>\n",
       "      <td>3</td>\n",
       "      <td>2013-12-29</td>\n",
       "      <td>2013</td>\n",
       "      <td>4</td>\n",
       "      <td>OMNI</td>\n",
       "      <td>1.117532e+08</td>\n",
       "      <td>180.40</td>\n",
       "      <td>6.194780e+05</td>\n",
       "      <td>2.567540e+05</td>\n",
       "      <td>-0.05</td>\n",
       "      <td>180.309800</td>\n",
       "      <td>6.45</td>\n",
       "      <td>192.035800</td>\n",
       "      <td>0.00</td>\n",
       "    </tr>\n",
       "    <tr>\n",
       "      <td>4</td>\n",
       "      <td>2013-12-29</td>\n",
       "      <td>2013</td>\n",
       "      <td>5</td>\n",
       "      <td>PPC</td>\n",
       "      <td>8.989141e+07</td>\n",
       "      <td>4.28</td>\n",
       "      <td>2.098287e+07</td>\n",
       "      <td>5.403640e+05</td>\n",
       "      <td>-0.30</td>\n",
       "      <td>4.267160</td>\n",
       "      <td>1.12</td>\n",
       "      <td>4.327936</td>\n",
       "      <td>37.05</td>\n",
       "    </tr>\n",
       "    <tr>\n",
       "      <td>...</td>\n",
       "      <td>...</td>\n",
       "      <td>...</td>\n",
       "      <td>...</td>\n",
       "      <td>...</td>\n",
       "      <td>...</td>\n",
       "      <td>...</td>\n",
       "      <td>...</td>\n",
       "      <td>...</td>\n",
       "      <td>...</td>\n",
       "      <td>...</td>\n",
       "      <td>...</td>\n",
       "      <td>...</td>\n",
       "      <td>...</td>\n",
       "    </tr>\n",
       "    <tr>\n",
       "      <td>7795</td>\n",
       "      <td>2021-06-13</td>\n",
       "      <td>2021</td>\n",
       "      <td>16</td>\n",
       "      <td>MATIC</td>\n",
       "      <td>9.246400e+09</td>\n",
       "      <td>1.47</td>\n",
       "      <td>6.293422e+09</td>\n",
       "      <td>1.566746e+09</td>\n",
       "      <td>1.82</td>\n",
       "      <td>1.496754</td>\n",
       "      <td>9.54</td>\n",
       "      <td>1.610238</td>\n",
       "      <td>-7.21</td>\n",
       "    </tr>\n",
       "    <tr>\n",
       "      <td>7796</td>\n",
       "      <td>2021-06-13</td>\n",
       "      <td>2021</td>\n",
       "      <td>17</td>\n",
       "      <td>THETA</td>\n",
       "      <td>8.776030e+09</td>\n",
       "      <td>8.78</td>\n",
       "      <td>1.000000e+09</td>\n",
       "      <td>3.143272e+08</td>\n",
       "      <td>0.66</td>\n",
       "      <td>8.837948</td>\n",
       "      <td>12.14</td>\n",
       "      <td>9.845892</td>\n",
       "      <td>-0.86</td>\n",
       "    </tr>\n",
       "    <tr>\n",
       "      <td>7797</td>\n",
       "      <td>2021-06-13</td>\n",
       "      <td>2021</td>\n",
       "      <td>18</td>\n",
       "      <td>ICP</td>\n",
       "      <td>8.328361e+09</td>\n",
       "      <td>64.57</td>\n",
       "      <td>1.289858e+08</td>\n",
       "      <td>3.065977e+08</td>\n",
       "      <td>0.87</td>\n",
       "      <td>65.131759</td>\n",
       "      <td>5.49</td>\n",
       "      <td>68.114893</td>\n",
       "      <td>-38.27</td>\n",
       "    </tr>\n",
       "    <tr>\n",
       "      <td>7798</td>\n",
       "      <td>2021-06-13</td>\n",
       "      <td>2021</td>\n",
       "      <td>19</td>\n",
       "      <td>XLM</td>\n",
       "      <td>7.975829e+09</td>\n",
       "      <td>0.34</td>\n",
       "      <td>2.313644e+10</td>\n",
       "      <td>7.838300e+08</td>\n",
       "      <td>-0.27</td>\n",
       "      <td>0.339082</td>\n",
       "      <td>5.01</td>\n",
       "      <td>0.357034</td>\n",
       "      <td>-9.58</td>\n",
       "    </tr>\n",
       "    <tr>\n",
       "      <td>7799</td>\n",
       "      <td>2021-06-13</td>\n",
       "      <td>2021</td>\n",
       "      <td>20</td>\n",
       "      <td>WBTC</td>\n",
       "      <td>7.354329e+09</td>\n",
       "      <td>38899.30</td>\n",
       "      <td>1.890610e+05</td>\n",
       "      <td>1.704205e+08</td>\n",
       "      <td>0.25</td>\n",
       "      <td>38996.548250</td>\n",
       "      <td>9.31</td>\n",
       "      <td>42520.824830</td>\n",
       "      <td>8.50</td>\n",
       "    </tr>\n",
       "  </tbody>\n",
       "</table>\n",
       "<p>7800 rows × 13 columns</p>\n",
       "</div>"
      ],
      "text/plain": [
       "           Date Date_Year  Rank Symbol    Market Cap     Price  \\\n",
       "0    2013-12-29      2013     1    BTC  9.082103e+09    745.05   \n",
       "1    2013-12-29      2013     2    LTC  5.868998e+08     24.07   \n",
       "2    2013-12-29      2013     3    XRP  2.127839e+08      0.03   \n",
       "3    2013-12-29      2013     4   OMNI  1.117532e+08    180.40   \n",
       "4    2013-12-29      2013     5    PPC  8.989141e+07      4.28   \n",
       "...         ...       ...   ...    ...           ...       ...   \n",
       "7795 2021-06-13      2021    16  MATIC  9.246400e+09      1.47   \n",
       "7796 2021-06-13      2021    17  THETA  8.776030e+09      8.78   \n",
       "7797 2021-06-13      2021    18    ICP  8.328361e+09     64.57   \n",
       "7798 2021-06-13      2021    19    XLM  7.975829e+09      0.34   \n",
       "7799 2021-06-13      2021    20   WBTC  7.354329e+09  38899.30   \n",
       "\n",
       "      Circulating Supply        Volume   %1h    price_hr_1   %24h  \\\n",
       "0           1.218992e+07  1.901134e+07 -0.10    744.304950   1.96   \n",
       "1           2.438799e+07  1.138424e+07 -0.94     23.843742   6.35   \n",
       "2           7.817890e+09  5.677200e+04 -0.27      0.029919  -0.33   \n",
       "3           6.194780e+05  2.567540e+05 -0.05    180.309800   6.45   \n",
       "4           2.098287e+07  5.403640e+05 -0.30      4.267160   1.12   \n",
       "...                  ...           ...   ...           ...    ...   \n",
       "7795        6.293422e+09  1.566746e+09  1.82      1.496754   9.54   \n",
       "7796        1.000000e+09  3.143272e+08  0.66      8.837948  12.14   \n",
       "7797        1.289858e+08  3.065977e+08  0.87     65.131759   5.49   \n",
       "7798        2.313644e+10  7.838300e+08 -0.27      0.339082   5.01   \n",
       "7799        1.890610e+05  1.704205e+08  0.25  38996.548250   9.31   \n",
       "\n",
       "       price_hr_24    %7d  \n",
       "0       759.652980  17.84  \n",
       "1        25.598445  39.97  \n",
       "2         0.029901  22.27  \n",
       "3       192.035800   0.00  \n",
       "4         4.327936  37.05  \n",
       "...            ...    ...  \n",
       "7795      1.610238  -7.21  \n",
       "7796      9.845892  -0.86  \n",
       "7797     68.114893 -38.27  \n",
       "7798      0.357034  -9.58  \n",
       "7799  42520.824830   8.50  \n",
       "\n",
       "[7800 rows x 13 columns]"
      ]
     },
     "execution_count": 24,
     "metadata": {},
     "output_type": "execute_result"
    }
   ],
   "source": [
    "crypto"
   ]
  },
  {
   "cell_type": "markdown",
   "metadata": {},
   "source": [
    "### Saving in File"
   ]
  },
  {
   "cell_type": "code",
   "execution_count": 25,
   "metadata": {},
   "outputs": [],
   "source": [
    "crypto.to_csv(\"cryptocurriencies_clean.csv\",index=False)"
   ]
  },
  {
   "cell_type": "code",
   "execution_count": null,
   "metadata": {},
   "outputs": [],
   "source": []
  }
 ],
 "metadata": {
  "kernelspec": {
   "display_name": "Python 3",
   "language": "python",
   "name": "python3"
  },
  "language_info": {
   "codemirror_mode": {
    "name": "ipython",
    "version": 3
   },
   "file_extension": ".py",
   "mimetype": "text/x-python",
   "name": "python",
   "nbconvert_exporter": "python",
   "pygments_lexer": "ipython3",
   "version": "3.7.4"
  }
 },
 "nbformat": 4,
 "nbformat_minor": 2
}
