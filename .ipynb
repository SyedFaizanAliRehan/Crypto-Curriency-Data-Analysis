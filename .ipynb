{
 "cells": [
  {
   "cell_type": "code",
   "execution_count": 1,
   "metadata": {},
   "outputs": [],
   "source": [
    "import requests\n",
    "from bs4 import BeautifulSoup\n",
    "import numpy as np\n",
    "import time\n",
    "from selenium import webdriver"
   ]
  },
  {
   "cell_type": "code",
   "execution_count": 2,
   "metadata": {},
   "outputs": [],
   "source": [
    "main_page_url=r\"https://coinmarketcap.com/historical/\""
   ]
  },
  {
   "cell_type": "code",
   "execution_count": 3,
   "metadata": {},
   "outputs": [],
   "source": [
    "main_page_sc=requests.get(main_page_url)"
   ]
  },
  {
   "cell_type": "code",
   "execution_count": 4,
   "metadata": {},
   "outputs": [
    {
     "data": {
      "text/plain": [
       "200"
      ]
     },
     "execution_count": 4,
     "metadata": {},
     "output_type": "execute_result"
    }
   ],
   "source": [
    "main_page_sc.status_code"
   ]
  },
  {
   "cell_type": "code",
   "execution_count": 5,
   "metadata": {},
   "outputs": [],
   "source": [
    "main=main_page_sc_bs=BeautifulSoup(main_page_sc.text)"
   ]
  },
  {
   "cell_type": "code",
   "execution_count": 6,
   "metadata": {},
   "outputs": [],
   "source": [
    "#write in file\n",
    "def writeFile(year,month,day,url,all_data):\n",
    "    date=year+\"-\"+month+\"-\"+day\n",
    "    file=open(\"crypto_data.csv\",\"a\")\n",
    "    for data in all_data:\n",
    "        res=\"\\n\"+date\n",
    "        for i in data:\n",
    "            res=res+\",\"+i\n",
    "        file.write(res)\n",
    "    file.close()"
   ]
  },
  {
   "cell_type": "code",
   "execution_count": 7,
   "metadata": {},
   "outputs": [],
   "source": [
    "#get data from Table:\n",
    "def get_table(url):\n",
    "    result=[]\n",
    "    #page=requests.get(url)\n",
    "    \n",
    "    #selenium\n",
    "    path_to_driver=r\".\\chromedriver_win32\\chromedriver.exe\"\n",
    "    driver = webdriver.Chrome(path_to_driver)\n",
    "    driver.get(url)\n",
    "    page = driver.page_source\n",
    "    \n",
    "\n",
    "    page_soup=BeautifulSoup(page)\n",
    "    page_tables=page_soup.find_all(\"table\")\n",
    "    #headers=page_soup.find(\"thead\")\n",
    "    #h=[header.text for header in headers.find_all(\"th\")]\n",
    "    for table in page_tables:\n",
    "        rows=table.find_all(\"tr\")\n",
    "        for row in rows:\n",
    "            t_data=row.find_all(\"td\")\n",
    "            data=[data.text for data in t_data]\n",
    "            if len(data)!=0:\n",
    "                result.append(data)\n",
    "    driver.close()\n",
    "    return result\n",
    "#get_table(\"https://coinmarketcap.com/historical/20130428/\")"
   ]
  },
  {
   "cell_type": "code",
   "execution_count": 8,
   "metadata": {},
   "outputs": [],
   "source": [
    "calender=main_page_sc_bs.find_all(\"div\",attrs={\"class\":\"cmc-bottom-margin-2x\"})"
   ]
  },
  {
   "cell_type": "code",
   "execution_count": 9,
   "metadata": {},
   "outputs": [],
   "source": [
    "years=calender[0].find_all(\"div\",attrs={\"class\":\"sc-1qnya65-0 eUVPSq\"})"
   ]
  },
  {
   "cell_type": "code",
   "execution_count": 10,
   "metadata": {},
   "outputs": [],
   "source": [
    "for year in years:\n",
    "    year_names= year.find(\"div\",attrs={\"class\":\"sc-1qnya65-1 lgiEcX\"})\n",
    "    all_months=year.find_all(\"div\",attrs={\"class\":\"sc-1qnya65-2 fzDKBw row\"})\n",
    "    for months in all_months:\n",
    "        month=months.find_all(\"div\",attrs={\"class\":\"wsa6uu-0 jctIId\"})\n",
    "        for m in months:\n",
    "            month_names=m.find(\"div\",attrs={\"class\":\"sc-1g0buhb-1 eSQiCH\"})\n",
    "            dates=m.find_all(\"a\",attrs={\"class\":\"historical-link cmc-link\"})\n",
    "            for d in dates:\n",
    "                url=\"https://coinmarketcap.com/\"+d[\"href\"]\n",
    "                writeFile(year_names.text,month_names.text,d.text,url,get_table(url))\n",
    "                time.sleep(10)"
   ]
  },
  {
   "cell_type": "code",
   "execution_count": null,
   "metadata": {},
   "outputs": [],
   "source": []
  }
 ],
 "metadata": {
  "kernelspec": {
   "display_name": "Python 3",
   "language": "python",
   "name": "python3"
  },
  "language_info": {
   "codemirror_mode": {
    "name": "ipython",
    "version": 3
   },
   "file_extension": ".py",
   "mimetype": "text/x-python",
   "name": "python",
   "nbconvert_exporter": "python",
   "pygments_lexer": "ipython3",
   "version": "3.7.4"
  }
 },
 "nbformat": 4,
 "nbformat_minor": 2
}
